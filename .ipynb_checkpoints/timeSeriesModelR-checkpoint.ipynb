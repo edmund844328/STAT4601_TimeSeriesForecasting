{
 "cells": [
  {
   "cell_type": "code",
   "execution_count": null,
   "metadata": {
    "vscode": {
     "languageId": "r"
    }
   },
   "outputs": [],
   "source": [
    "%%time\n",
    "install.packages(\"aTSA\")\n",
    "install.packages(\"tseries\")\n",
    "install.packages(\"ggplot2\")\n",
    "install.packages(\"zoo\")\n",
    "install.packages(\"xts\")\n",
    "install.packages('repr')"
   ]
  },
  {
   "cell_type": "code",
   "execution_count": 17,
   "metadata": {
    "vscode": {
     "languageId": "r"
    }
   },
   "outputs": [
    {
     "ename": "ERROR",
     "evalue": "Error in library(ggplot2): there is no package called 'ggplot2'\n",
     "output_type": "error",
     "traceback": [
      "Error in library(ggplot2): there is no package called 'ggplot2'\nTraceback:\n",
      "1. library(ggplot2)"
     ]
    }
   ],
   "source": [
    "library(aTSA)\n",
    "library(tseries)\n",
    "library(ggplot2)\n",
    "library(zoo)\n",
    "library(xts)\n",
    "library(repr)"
   ]
  },
  {
   "cell_type": "code",
   "execution_count": 9,
   "metadata": {
    "vscode": {
     "languageId": "r"
    }
   },
   "outputs": [
    {
     "data": {
      "image/png": "[encoded data removed]",
      "text/plain": [
       "plot without title"
      ]
     },
     "metadata": {},
     "output_type": "display_data"
    }
   ],
   "source": [
    "cpi_data <- read.csv(\"DataSet/CPIUSSA.csv\", header=TRUE) #class dataframe\n",
    "colnames(cpi_data) <- c('date','cpi') #rename\n",
    "cpi_data$date <- as.Date(cpi_data$date) #Set date as date time format\n",
    "rownames(cpi_data) <- cpi_data$date #Set date as index\n",
    "# cpi_ts <- xts(cpi_data$cpi, cpi_data$date)\n",
    "options(repr.plot.width=4, repr.plot.height=3)\n",
    "plot(cpi_data$date, cpi_data$cpi, type=\"l\", xlab='Year', ylab='CPI')"
   ]
  }
 ],
 "metadata": {
  "kernelspec": {
   "display_name": "R",
   "language": "R",
   "name": "ir"
  },
  "language_info": {
   "codemirror_mode": "r",
   "file_extension": ".r",
   "mimetype": "text/x-r-source",
   "name": "R",
   "pygments_lexer": "r",
   "version": "3.10.8"
  },
  "vscode": {
   "interpreter": {
    "hash": "f35337fe733502257b6aeba9d64c8493f1f99f7e96502ffc68e9700b26bb0c18"
   }
  }
 },
 "nbformat": 4,
 "nbformat_minor": 2
}
