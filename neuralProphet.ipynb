{
 "cells": [
  {
   "cell_type": "code",
   "execution_count": null,
   "metadata": {},
   "outputs": [],
   "source": [
    "%pip install neuralprophet[live]\n",
    "%pip install numpy"
   ]
  },
  {
   "cell_type": "code",
   "execution_count": 4,
   "metadata": {},
   "outputs": [],
   "source": [
    "import numpy as np\n",
    "import pandas as pd\n",
    "import matplotlib.pyplot as plt\n",
    "from neuralprophet import NeuralProphet\n",
    "#https://github.com/ourownstory/neural_prophet"
   ]
  },
  {
   "cell_type": "code",
   "execution_count": 29,
   "metadata": {},
   "outputs": [],
   "source": [
    "#Read data\n",
    "csv_file = 'CPIUS.csv'\n",
    "df = pd.read_csv('DataSet\\\\'+csv_file)\n",
    "df.dropna(inplace=True)\n",
    "\n",
    "df_clean = df.loc[:,['DATE','CPILFENS']]\n",
    "df_clean.rename(columns={'DATE':'ds','CPILFENS':'y'},inplace=True)\n",
    "df_clean['ds'] = pd.to_datetime(df_clean.ds)\n",
    "#Subseting data, Leave some data for forcecasting\n",
    "df_train = df_clean[:-5].copy()\n",
    "df_train.dropna(inplace=True)\n",
    "df_clean.dropna(inplace=True)"
   ]
  },
  {
   "cell_type": "code",
   "execution_count": 33,
   "metadata": {},
   "outputs": [],
   "source": [
    "neuralprop = NeuralProphet(\n",
    "    drop_missing=True,\n",
    "    growth=\"linear\",\n",
    "    trend_reg=0,\n",
    "    trend_reg_threshold=False,\n",
    "    yearly_seasonality='auto',\n",
    "    weekly_seasonality='auto',\n",
    "    daily_seasonality='auto',\n",
    "    seasonality_mode='additive',\n",
    "    seasonality_reg=0,\n",
    "    n_lags=7,\n",
    "    #NN stuff\n",
    "    batch_size=32,\n",
    "    num_hidden_layers=2,\n",
    "    d_hidden=4,\n",
    "    learning_rate=0.001,\n",
    "    epochs=100,\n",
    "    loss_func='Huber',\n",
    "    optimizer= \"AdamW\",\n",
    "    normalize='auto',\n",
    "    impute_missing=True\n",
    "    \n",
    ")"
   ]
  },
  {
   "cell_type": "code",
   "execution_count": 34,
   "metadata": {},
   "outputs": [
    {
     "name": "stderr",
     "output_type": "stream",
     "text": [
      "INFO - (NP.df_utils._infer_frequency) - Major frequency MS corresponds to 91.465% of the data.\n",
      "WARNING - (NP.df_utils._infer_frequency) - Defined frequency D is different than major frequency MS\n",
      "INFO - (NP.forecaster.__handle_missing_data) - 23077 missing dates added.\n",
      "WARNING - (NP.forecaster.__handle_missing_data) - 23077 missing values in column y were detected in total. \n",
      "INFO - (NP.forecaster.__handle_missing_data) - 23071 NaN values in column y were auto-imputed.\n",
      "WARNING - (NP.forecaster.__handle_missing_data) - More than 30 consecutive missing values encountered in column y. 6 NA remain after auto-imputation. \n",
      "INFO - (NP.config.init_data_params) - Setting normalization to global as only one dataframe provided for training.\n",
      "INFO - (NP.utils.set_auto_seasonalities) - Disabling daily seasonality. Run NeuralProphet with daily_seasonality=True to override this.\n",
      "WARNING - (NP.time_dataset.drop_nan_after_init) - 20 samples with missing values were dropped from the data. \n",
      "Epoch[100/100]: 100%|██████████| 100/100 [03:06<00:00,  1.87s/it, SmoothL1Loss=1.93e-6, MAE=0.307, RMSE=0.435, Loss=1.69e-6, RegLoss=0]\n"
     ]
    },
    {
     "data": {
      "text/html": [
       "<div>\n",
       "<style scoped>\n",
       "    .dataframe tbody tr th:only-of-type {\n",
       "        vertical-align: middle;\n",
       "    }\n",
       "\n",
       "    .dataframe tbody tr th {\n",
       "        vertical-align: top;\n",
       "    }\n",
       "\n",
       "    .dataframe thead th {\n",
       "        text-align: right;\n",
       "    }\n",
       "</style>\n",
       "<table border=\"1\" class=\"dataframe\">\n",
       "  <thead>\n",
       "    <tr style=\"text-align: right;\">\n",
       "      <th></th>\n",
       "      <th>SmoothL1Loss</th>\n",
       "      <th>MAE</th>\n",
       "      <th>RMSE</th>\n",
       "      <th>Loss</th>\n",
       "      <th>RegLoss</th>\n",
       "    </tr>\n",
       "  </thead>\n",
       "  <tbody>\n",
       "    <tr>\n",
       "      <th>0</th>\n",
       "      <td>0.497903</td>\n",
       "      <td>208.815280</td>\n",
       "      <td>251.572168</td>\n",
       "      <td>0.375054</td>\n",
       "      <td>0.0</td>\n",
       "    </tr>\n",
       "    <tr>\n",
       "      <th>1</th>\n",
       "      <td>0.485070</td>\n",
       "      <td>205.463555</td>\n",
       "      <td>247.526165</td>\n",
       "      <td>0.365188</td>\n",
       "      <td>0.0</td>\n",
       "    </tr>\n",
       "    <tr>\n",
       "      <th>2</th>\n",
       "      <td>0.464812</td>\n",
       "      <td>200.123471</td>\n",
       "      <td>240.987898</td>\n",
       "      <td>0.349764</td>\n",
       "      <td>0.0</td>\n",
       "    </tr>\n",
       "    <tr>\n",
       "      <th>3</th>\n",
       "      <td>0.432516</td>\n",
       "      <td>191.499753</td>\n",
       "      <td>230.391317</td>\n",
       "      <td>0.325230</td>\n",
       "      <td>0.0</td>\n",
       "    </tr>\n",
       "    <tr>\n",
       "      <th>4</th>\n",
       "      <td>0.384504</td>\n",
       "      <td>178.443374</td>\n",
       "      <td>214.494127</td>\n",
       "      <td>0.289036</td>\n",
       "      <td>0.0</td>\n",
       "    </tr>\n",
       "  </tbody>\n",
       "</table>\n",
       "</div>"
      ],
      "text/plain": [
       "   SmoothL1Loss         MAE        RMSE      Loss  RegLoss\n",
       "0      0.497903  208.815280  251.572168  0.375054      0.0\n",
       "1      0.485070  205.463555  247.526165  0.365188      0.0\n",
       "2      0.464812  200.123471  240.987898  0.349764      0.0\n",
       "3      0.432516  191.499753  230.391317  0.325230      0.0\n",
       "4      0.384504  178.443374  214.494127  0.289036      0.0"
      ]
     },
     "execution_count": 34,
     "metadata": {},
     "output_type": "execute_result"
    }
   ],
   "source": [
    "metrics = neuralprop.fit(df_train, freq='D')\n",
    "metrics.head()"
   ]
  },
  {
   "cell_type": "code",
   "execution_count": 137,
   "metadata": {},
   "outputs": [],
   "source": [
    "def sacf(array, lag):\n",
    "    \n",
    "    mu = np.mean(array)\n",
    "    numera = 0\n",
    "    denomina = 0\n",
    "    for j in range (0,len(array)):\n",
    "        denomina = denomina + np.power((array[j]-mu),2)\n",
    "    print(mu, denomina)\n",
    "\n",
    "    if (lag <= 1):\n",
    "        for i in range (lag, len(array)):\n",
    "            print(f'({array[i]}-mu) * ({array[i-lag]}-mu)')\n",
    "            numera = numera + (array[i]-mu)*(array[i-lag]-mu)\n",
    "        print(numera/denomina)\n",
    "\n",
    "    if (lag > 1):\n",
    "        for i in range (lag, len(array)):\n",
    "            print(f'({array[i]}-mu) * ({array[i-lag]}-mu)')\n",
    "            numera = numera + (array[i]-mu)*(array[i-lag]-mu)\n",
    "        print(numera/denomina)\n",
    "def ci(array, n):\n",
    "    result = []\n",
    "    base = 1.96/np.sqrt(n)\n",
    "    result.append(base)\n",
    "    pres = []\n",
    "    pres.append(1)\n",
    "    for i in range(0,len(array)-1):\n",
    "        pres.append(2*np.power(array[i],2))\n",
    "        result.append(base*np.sqrt(np.sum(pres)))\n",
    "    print(result)\n",
    "    "
   ]
  }
 ],
 "metadata": {
  "kernelspec": {
   "display_name": "Python 3.10.8 ('stat4601m')",
   "language": "python",
   "name": "python3"
  },
  "language_info": {
   "codemirror_mode": {
    "name": "ipython",
    "version": 3
   },
   "file_extension": ".py",
   "mimetype": "text/x-python",
   "name": "python",
   "nbconvert_exporter": "python",
   "pygments_lexer": "ipython3",
   "version": "3.10.8"
  },
  "orig_nbformat": 4,
  "vscode": {
   "interpreter": {
    "hash": "696a8010cb1c590ac52c5563b03a3708978cd62fbd39005a848981d8ad6ae3e3"
   }
  }
 },
 "nbformat": 4,
 "nbformat_minor": 2
}
