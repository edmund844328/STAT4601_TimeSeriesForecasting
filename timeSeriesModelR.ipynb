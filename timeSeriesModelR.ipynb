{
 "cells": [
  {
   "cell_type": "code",
   "execution_count": null,
   "id": "d4df3a07",
   "metadata": {
    "vscode": {
     "languageId": "r"
    }
   },
   "outputs": [],
   "source": [
    "install.packages(\"forecast\")\n",
    "install.packages(\"ggTimeSeries\")\n",
    "install.packages(\"magrittr\")"
   ]
  },
  {
   "cell_type": "code",
   "execution_count": null,
   "metadata": {
    "vscode": {
     "languageId": "r"
    }
   },
   "outputs": [],
   "source": [
    "library(readxl)\n",
    "library(dplyr)\n",
    "library(ggplot2)\n",
    "library(magrittr)\n",
    "library(forecast)\n",
    "library(tseries)\n",
    "library(ggTimeSeries)\n",
    "library(magrittr)"
   ]
  },
  {
   "cell_type": "code",
   "execution_count": 5,
   "id": "0dc0bcd6",
   "metadata": {
    "vscode": {
     "languageId": "r"
    }
   },
   "outputs": [],
   "source": [
    "uscpi <- read.csv(\"DataSet/CPIUS.csv\")"
   ]
  },
  {
   "cell_type": "code",
   "execution_count": 6,
   "id": "04b60c03",
   "metadata": {
    "vscode": {
     "languageId": "r"
    }
   },
   "outputs": [
    {
     "ename": "ERROR",
     "evalue": "Error in .f(.x[[i]], ...): object 'Year' not found\n",
     "output_type": "error",
     "traceback": [
      "Error in .f(.x[[i]], ...): object 'Year' not found\nTraceback:\n",
      "1. uscpi %>% select(Year, CPI, Inflation) %>% ts(start = c(1963, \n .     3), end = c(2018, 3), frequency = 4)",
      "2. ts(., start = c(1963, 3), end = c(2018, 3), frequency = 4)",
      "3. is.data.frame(data)",
      "4. select(., Year, CPI, Inflation)",
      "5. select.data.frame(., Year, CPI, Inflation)",
      "6. tidyselect::vars_select(sel_vars(.data), !!!quos(...))",
      "7. vars_select_eval(.vars, quos)",
      "8. map_if(quos, !is_helper, eval_tidy, mask)",
      "9. map(.x[sel], .f, ...)",
      "10. .f(.x[[i]], ...)"
     ]
    }
   ],
   "source": [
    "TS_Data <- uscpi %>% \n",
    "select(Year, CPI, Inflation) %>% \n",
    "  ts(start = c(1963, 3), \n",
    "        end = c(2018,3), \n",
    "        frequency = 4) # \"frequency = 4\" for quarterly \n",
    "class(TS_Data)   # Check the class, this is multivariate TS"
   ]
  }
 ],
 "metadata": {
  "kernelspec": {
   "display_name": "R",
   "language": "R",
   "name": "ir"
  },
  "language_info": {
   "codemirror_mode": "r",
   "file_extension": ".r",
   "mimetype": "text/x-r-source",
   "name": "R",
   "pygments_lexer": "r",
   "version": "3.6.1"
  },
  "vscode": {
   "interpreter": {
    "hash": "25a19fbe0a9132dfb9279d48d161753c6352f8f9478c2e74383d340069b907c3"
   }
  }
 },
 "nbformat": 4,
 "nbformat_minor": 5
}
